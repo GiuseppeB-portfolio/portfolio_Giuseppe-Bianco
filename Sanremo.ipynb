{
 "cells": [
  {
   "cell_type": "markdown",
   "metadata": {},
   "source": [
    "Analisi dati su Festival di Sanremo"
   ]
  },
  {
   "cell_type": "code",
   "execution_count": 19,
   "metadata": {},
   "outputs": [
    {
     "data": {
      "application/vnd.plotly.v1+json": {
       "config": {
        "plotlyServerURL": "https://plot.ly"
       },
       "data": [
        {
         "customdata": [
          [
           "38ª"
          ],
          [
           "37ª"
          ],
          [
           "39ª"
          ],
          [
           "45ª"
          ],
          [
           "73ª"
          ],
          [
           "47ª"
          ],
          [
           "42ª"
          ],
          [
           "50ª"
          ],
          [
           "44ª"
          ],
          [
           "49ª"
          ],
          [
           "52ª"
          ],
          [
           "55ª"
          ],
          [
           "72ª"
          ],
          [
           "41ª"
          ],
          [
           "48ª"
          ],
          [
           "43ª"
          ],
          [
           "40ª"
          ],
          [
           "46ª"
          ],
          [
           "70ª"
          ],
          [
           "68ª"
          ],
          [
           "51ª"
          ],
          [
           "67ª"
          ],
          [
           "62ª"
          ],
          [
           "69ª"
          ],
          [
           "66ª"
          ],
          [
           "65ª"
          ],
          [
           "63ª"
          ],
          [
           "59ª"
          ],
          [
           "71ª"
          ],
          [
           "61ª"
          ],
          [
           "64ª"
          ],
          [
           "57ª"
          ],
          [
           "60ª"
          ],
          [
           "56ª"
          ],
          [
           "53ª"
          ],
          [
           "54ª"
          ],
          [
           "58ª"
          ]
         ],
         "hovertemplate": "Telespettatori Media (milioni)=%{x}<br>Share Media (%)=%{y}<br>Anno=%{marker.color}<br>Edizione=%{customdata[0]}<extra></extra>",
         "legendgroup": "",
         "marker": {
          "color": [
           1988,
           1987,
           1989,
           1995,
           2023,
           1997,
           1992,
           2000,
           1994,
           1999,
           2002,
           2005,
           2022,
           1991,
           1998,
           1993,
           1990,
           1996,
           2020,
           2018,
           2001,
           2017,
           2012,
           2019,
           2016,
           2015,
           2013,
           2009,
           2021,
           2011,
           2014,
           2007,
           2010,
           2006,
           2003,
           2004,
           2008
          ],
          "coloraxis": "coloraxis",
          "size": [
           1988,
           1987,
           1989,
           1995,
           2023,
           1997,
           1992,
           2000,
           1994,
           1999,
           2002,
           2005,
           2022,
           1991,
           1998,
           1993,
           1990,
           1996,
           2020,
           2018,
           2001,
           2017,
           2012,
           2019,
           2016,
           2015,
           2013,
           2009,
           2021,
           2011,
           2014,
           2007,
           2010,
           2006,
           2003,
           2004,
           2008
          ],
          "sizemode": "area",
          "sizeref": 5.0575,
          "symbol": "circle"
         },
         "mode": "markers",
         "name": "",
         "orientation": "v",
         "showlegend": false,
         "type": "scatter",
         "x": [
          14.4,
          15.95,
          15.975,
          16.845,
          10.625,
          13.937,
          15.275,
          12.92,
          12.625,
          14.548,
          11.479,
          11.366,
          11.27,
          13.786,
          13.694,
          15.267,
          14.316,
          12.734,
          10.114,
          10.869,
          10.989,
          10.853,
          11.136,
          9.763,
          10.746,
          10.837,
          11.936,
          10.335,
          8.466,
          11.45,
          8.763,
          9.731,
          10.924,
          8.28,
          8.888,
          8.947,
          6.81
         ],
         "xaxis": "x",
         "y": [
          63.35,
          68.71,
          66.13,
          66.42,
          63.38,
          58.11,
          60.32,
          54.25,
          53.63,
          56.02,
          54.02,
          52.79,
          58,
          52.29,
          52.62,
          56.11,
          63.88,
          52.99,
          54.78,
          52.16,
          47.42,
          50.42,
          47.29,
          49.38,
          49.58,
          48.64,
          47.49,
          47.96,
          46.24,
          47.7,
          39.32,
          48.07,
          47.84,
          40.17,
          43.44,
          38.98,
          36.56
         ],
         "yaxis": "y"
        }
       ],
       "layout": {
        "coloraxis": {
         "colorbar": {
          "title": {
           "text": "Anno"
          }
         },
         "colorscale": [
          [
           0,
           "#0d0887"
          ],
          [
           0.1111111111111111,
           "#46039f"
          ],
          [
           0.2222222222222222,
           "#7201a8"
          ],
          [
           0.3333333333333333,
           "#9c179e"
          ],
          [
           0.4444444444444444,
           "#bd3786"
          ],
          [
           0.5555555555555556,
           "#d8576b"
          ],
          [
           0.6666666666666666,
           "#ed7953"
          ],
          [
           0.7777777777777778,
           "#fb9f3a"
          ],
          [
           0.8888888888888888,
           "#fdca26"
          ],
          [
           1,
           "#f0f921"
          ]
         ]
        },
        "legend": {
         "itemsizing": "constant",
         "tracegroupgap": 0
        },
        "template": {
         "data": {
          "bar": [
           {
            "error_x": {
             "color": "#2a3f5f"
            },
            "error_y": {
             "color": "#2a3f5f"
            },
            "marker": {
             "line": {
              "color": "#E5ECF6",
              "width": 0.5
             },
             "pattern": {
              "fillmode": "overlay",
              "size": 10,
              "solidity": 0.2
             }
            },
            "type": "bar"
           }
          ],
          "barpolar": [
           {
            "marker": {
             "line": {
              "color": "#E5ECF6",
              "width": 0.5
             },
             "pattern": {
              "fillmode": "overlay",
              "size": 10,
              "solidity": 0.2
             }
            },
            "type": "barpolar"
           }
          ],
          "carpet": [
           {
            "aaxis": {
             "endlinecolor": "#2a3f5f",
             "gridcolor": "white",
             "linecolor": "white",
             "minorgridcolor": "white",
             "startlinecolor": "#2a3f5f"
            },
            "baxis": {
             "endlinecolor": "#2a3f5f",
             "gridcolor": "white",
             "linecolor": "white",
             "minorgridcolor": "white",
             "startlinecolor": "#2a3f5f"
            },
            "type": "carpet"
           }
          ],
          "choropleth": [
           {
            "colorbar": {
             "outlinewidth": 0,
             "ticks": ""
            },
            "type": "choropleth"
           }
          ],
          "contour": [
           {
            "colorbar": {
             "outlinewidth": 0,
             "ticks": ""
            },
            "colorscale": [
             [
              0,
              "#0d0887"
             ],
             [
              0.1111111111111111,
              "#46039f"
             ],
             [
              0.2222222222222222,
              "#7201a8"
             ],
             [
              0.3333333333333333,
              "#9c179e"
             ],
             [
              0.4444444444444444,
              "#bd3786"
             ],
             [
              0.5555555555555556,
              "#d8576b"
             ],
             [
              0.6666666666666666,
              "#ed7953"
             ],
             [
              0.7777777777777778,
              "#fb9f3a"
             ],
             [
              0.8888888888888888,
              "#fdca26"
             ],
             [
              1,
              "#f0f921"
             ]
            ],
            "type": "contour"
           }
          ],
          "contourcarpet": [
           {
            "colorbar": {
             "outlinewidth": 0,
             "ticks": ""
            },
            "type": "contourcarpet"
           }
          ],
          "heatmap": [
           {
            "colorbar": {
             "outlinewidth": 0,
             "ticks": ""
            },
            "colorscale": [
             [
              0,
              "#0d0887"
             ],
             [
              0.1111111111111111,
              "#46039f"
             ],
             [
              0.2222222222222222,
              "#7201a8"
             ],
             [
              0.3333333333333333,
              "#9c179e"
             ],
             [
              0.4444444444444444,
              "#bd3786"
             ],
             [
              0.5555555555555556,
              "#d8576b"
             ],
             [
              0.6666666666666666,
              "#ed7953"
             ],
             [
              0.7777777777777778,
              "#fb9f3a"
             ],
             [
              0.8888888888888888,
              "#fdca26"
             ],
             [
              1,
              "#f0f921"
             ]
            ],
            "type": "heatmap"
           }
          ],
          "heatmapgl": [
           {
            "colorbar": {
             "outlinewidth": 0,
             "ticks": ""
            },
            "colorscale": [
             [
              0,
              "#0d0887"
             ],
             [
              0.1111111111111111,
              "#46039f"
             ],
             [
              0.2222222222222222,
              "#7201a8"
             ],
             [
              0.3333333333333333,
              "#9c179e"
             ],
             [
              0.4444444444444444,
              "#bd3786"
             ],
             [
              0.5555555555555556,
              "#d8576b"
             ],
             [
              0.6666666666666666,
              "#ed7953"
             ],
             [
              0.7777777777777778,
              "#fb9f3a"
             ],
             [
              0.8888888888888888,
              "#fdca26"
             ],
             [
              1,
              "#f0f921"
             ]
            ],
            "type": "heatmapgl"
           }
          ],
          "histogram": [
           {
            "marker": {
             "pattern": {
              "fillmode": "overlay",
              "size": 10,
              "solidity": 0.2
             }
            },
            "type": "histogram"
           }
          ],
          "histogram2d": [
           {
            "colorbar": {
             "outlinewidth": 0,
             "ticks": ""
            },
            "colorscale": [
             [
              0,
              "#0d0887"
             ],
             [
              0.1111111111111111,
              "#46039f"
             ],
             [
              0.2222222222222222,
              "#7201a8"
             ],
             [
              0.3333333333333333,
              "#9c179e"
             ],
             [
              0.4444444444444444,
              "#bd3786"
             ],
             [
              0.5555555555555556,
              "#d8576b"
             ],
             [
              0.6666666666666666,
              "#ed7953"
             ],
             [
              0.7777777777777778,
              "#fb9f3a"
             ],
             [
              0.8888888888888888,
              "#fdca26"
             ],
             [
              1,
              "#f0f921"
             ]
            ],
            "type": "histogram2d"
           }
          ],
          "histogram2dcontour": [
           {
            "colorbar": {
             "outlinewidth": 0,
             "ticks": ""
            },
            "colorscale": [
             [
              0,
              "#0d0887"
             ],
             [
              0.1111111111111111,
              "#46039f"
             ],
             [
              0.2222222222222222,
              "#7201a8"
             ],
             [
              0.3333333333333333,
              "#9c179e"
             ],
             [
              0.4444444444444444,
              "#bd3786"
             ],
             [
              0.5555555555555556,
              "#d8576b"
             ],
             [
              0.6666666666666666,
              "#ed7953"
             ],
             [
              0.7777777777777778,
              "#fb9f3a"
             ],
             [
              0.8888888888888888,
              "#fdca26"
             ],
             [
              1,
              "#f0f921"
             ]
            ],
            "type": "histogram2dcontour"
           }
          ],
          "mesh3d": [
           {
            "colorbar": {
             "outlinewidth": 0,
             "ticks": ""
            },
            "type": "mesh3d"
           }
          ],
          "parcoords": [
           {
            "line": {
             "colorbar": {
              "outlinewidth": 0,
              "ticks": ""
             }
            },
            "type": "parcoords"
           }
          ],
          "pie": [
           {
            "automargin": true,
            "type": "pie"
           }
          ],
          "scatter": [
           {
            "fillpattern": {
             "fillmode": "overlay",
             "size": 10,
             "solidity": 0.2
            },
            "type": "scatter"
           }
          ],
          "scatter3d": [
           {
            "line": {
             "colorbar": {
              "outlinewidth": 0,
              "ticks": ""
             }
            },
            "marker": {
             "colorbar": {
              "outlinewidth": 0,
              "ticks": ""
             }
            },
            "type": "scatter3d"
           }
          ],
          "scattercarpet": [
           {
            "marker": {
             "colorbar": {
              "outlinewidth": 0,
              "ticks": ""
             }
            },
            "type": "scattercarpet"
           }
          ],
          "scattergeo": [
           {
            "marker": {
             "colorbar": {
              "outlinewidth": 0,
              "ticks": ""
             }
            },
            "type": "scattergeo"
           }
          ],
          "scattergl": [
           {
            "marker": {
             "colorbar": {
              "outlinewidth": 0,
              "ticks": ""
             }
            },
            "type": "scattergl"
           }
          ],
          "scattermapbox": [
           {
            "marker": {
             "colorbar": {
              "outlinewidth": 0,
              "ticks": ""
             }
            },
            "type": "scattermapbox"
           }
          ],
          "scatterpolar": [
           {
            "marker": {
             "colorbar": {
              "outlinewidth": 0,
              "ticks": ""
             }
            },
            "type": "scatterpolar"
           }
          ],
          "scatterpolargl": [
           {
            "marker": {
             "colorbar": {
              "outlinewidth": 0,
              "ticks": ""
             }
            },
            "type": "scatterpolargl"
           }
          ],
          "scatterternary": [
           {
            "marker": {
             "colorbar": {
              "outlinewidth": 0,
              "ticks": ""
             }
            },
            "type": "scatterternary"
           }
          ],
          "surface": [
           {
            "colorbar": {
             "outlinewidth": 0,
             "ticks": ""
            },
            "colorscale": [
             [
              0,
              "#0d0887"
             ],
             [
              0.1111111111111111,
              "#46039f"
             ],
             [
              0.2222222222222222,
              "#7201a8"
             ],
             [
              0.3333333333333333,
              "#9c179e"
             ],
             [
              0.4444444444444444,
              "#bd3786"
             ],
             [
              0.5555555555555556,
              "#d8576b"
             ],
             [
              0.6666666666666666,
              "#ed7953"
             ],
             [
              0.7777777777777778,
              "#fb9f3a"
             ],
             [
              0.8888888888888888,
              "#fdca26"
             ],
             [
              1,
              "#f0f921"
             ]
            ],
            "type": "surface"
           }
          ],
          "table": [
           {
            "cells": {
             "fill": {
              "color": "#EBF0F8"
             },
             "line": {
              "color": "white"
             }
            },
            "header": {
             "fill": {
              "color": "#C8D4E3"
             },
             "line": {
              "color": "white"
             }
            },
            "type": "table"
           }
          ]
         },
         "layout": {
          "annotationdefaults": {
           "arrowcolor": "#2a3f5f",
           "arrowhead": 0,
           "arrowwidth": 1
          },
          "autotypenumbers": "strict",
          "coloraxis": {
           "colorbar": {
            "outlinewidth": 0,
            "ticks": ""
           }
          },
          "colorscale": {
           "diverging": [
            [
             0,
             "#8e0152"
            ],
            [
             0.1,
             "#c51b7d"
            ],
            [
             0.2,
             "#de77ae"
            ],
            [
             0.3,
             "#f1b6da"
            ],
            [
             0.4,
             "#fde0ef"
            ],
            [
             0.5,
             "#f7f7f7"
            ],
            [
             0.6,
             "#e6f5d0"
            ],
            [
             0.7,
             "#b8e186"
            ],
            [
             0.8,
             "#7fbc41"
            ],
            [
             0.9,
             "#4d9221"
            ],
            [
             1,
             "#276419"
            ]
           ],
           "sequential": [
            [
             0,
             "#0d0887"
            ],
            [
             0.1111111111111111,
             "#46039f"
            ],
            [
             0.2222222222222222,
             "#7201a8"
            ],
            [
             0.3333333333333333,
             "#9c179e"
            ],
            [
             0.4444444444444444,
             "#bd3786"
            ],
            [
             0.5555555555555556,
             "#d8576b"
            ],
            [
             0.6666666666666666,
             "#ed7953"
            ],
            [
             0.7777777777777778,
             "#fb9f3a"
            ],
            [
             0.8888888888888888,
             "#fdca26"
            ],
            [
             1,
             "#f0f921"
            ]
           ],
           "sequentialminus": [
            [
             0,
             "#0d0887"
            ],
            [
             0.1111111111111111,
             "#46039f"
            ],
            [
             0.2222222222222222,
             "#7201a8"
            ],
            [
             0.3333333333333333,
             "#9c179e"
            ],
            [
             0.4444444444444444,
             "#bd3786"
            ],
            [
             0.5555555555555556,
             "#d8576b"
            ],
            [
             0.6666666666666666,
             "#ed7953"
            ],
            [
             0.7777777777777778,
             "#fb9f3a"
            ],
            [
             0.8888888888888888,
             "#fdca26"
            ],
            [
             1,
             "#f0f921"
            ]
           ]
          },
          "colorway": [
           "#636efa",
           "#EF553B",
           "#00cc96",
           "#ab63fa",
           "#FFA15A",
           "#19d3f3",
           "#FF6692",
           "#B6E880",
           "#FF97FF",
           "#FECB52"
          ],
          "font": {
           "color": "#2a3f5f"
          },
          "geo": {
           "bgcolor": "white",
           "lakecolor": "white",
           "landcolor": "#E5ECF6",
           "showlakes": true,
           "showland": true,
           "subunitcolor": "white"
          },
          "hoverlabel": {
           "align": "left"
          },
          "hovermode": "closest",
          "mapbox": {
           "style": "light"
          },
          "paper_bgcolor": "white",
          "plot_bgcolor": "#E5ECF6",
          "polar": {
           "angularaxis": {
            "gridcolor": "white",
            "linecolor": "white",
            "ticks": ""
           },
           "bgcolor": "#E5ECF6",
           "radialaxis": {
            "gridcolor": "white",
            "linecolor": "white",
            "ticks": ""
           }
          },
          "scene": {
           "xaxis": {
            "backgroundcolor": "#E5ECF6",
            "gridcolor": "white",
            "gridwidth": 2,
            "linecolor": "white",
            "showbackground": true,
            "ticks": "",
            "zerolinecolor": "white"
           },
           "yaxis": {
            "backgroundcolor": "#E5ECF6",
            "gridcolor": "white",
            "gridwidth": 2,
            "linecolor": "white",
            "showbackground": true,
            "ticks": "",
            "zerolinecolor": "white"
           },
           "zaxis": {
            "backgroundcolor": "#E5ECF6",
            "gridcolor": "white",
            "gridwidth": 2,
            "linecolor": "white",
            "showbackground": true,
            "ticks": "",
            "zerolinecolor": "white"
           }
          },
          "shapedefaults": {
           "line": {
            "color": "#2a3f5f"
           }
          },
          "ternary": {
           "aaxis": {
            "gridcolor": "white",
            "linecolor": "white",
            "ticks": ""
           },
           "baxis": {
            "gridcolor": "white",
            "linecolor": "white",
            "ticks": ""
           },
           "bgcolor": "#E5ECF6",
           "caxis": {
            "gridcolor": "white",
            "linecolor": "white",
            "ticks": ""
           }
          },
          "title": {
           "x": 0.05
          },
          "xaxis": {
           "automargin": true,
           "gridcolor": "white",
           "linecolor": "white",
           "ticks": "",
           "title": {
            "standoff": 15
           },
           "zerolinecolor": "white",
           "zerolinewidth": 2
          },
          "yaxis": {
           "automargin": true,
           "gridcolor": "white",
           "linecolor": "white",
           "ticks": "",
           "title": {
            "standoff": 15
           },
           "zerolinecolor": "white",
           "zerolinewidth": 2
          }
         }
        },
        "title": {
         "text": "Grafico a Dispersione Interattivo Telespettatori Media vs Share Media"
        },
        "xaxis": {
         "anchor": "y",
         "domain": [
          0,
          1
         ],
         "title": {
          "text": "Telespettatori Media (milioni)"
         }
        },
        "yaxis": {
         "anchor": "x",
         "domain": [
          0,
          1
         ],
         "title": {
          "text": "Share Media (%)"
         }
        }
       }
      }
     },
     "metadata": {},
     "output_type": "display_data"
    }
   ],
   "source": [
    "import pandas as pd\n",
    "import plotly.express as px\n",
    "\n",
    "\n",
    "data = {\n",
    "    'Edizione': ['38ª', '37ª', '39ª', '45ª', '73ª', '47ª', '42ª', '50ª', '44ª', '49ª', '52ª', '55ª', '72ª', '41ª', '48ª', '43ª', '40ª', '46ª', '70ª', '68ª', '51ª', '67ª', '62ª', '69ª', '66ª', '65ª', '63ª', '59ª', '71ª', '61ª', '64ª', '57ª', '60ª', '56ª', '53ª', '54ª', '58ª'],\n",
    "    'Anno': [1988, 1987, 1989, 1995, 2023, 1997, 1992, 2000, 1994, 1999, 2002, 2005, 2022, 1991, 1998, 1993, 1990, 1996, 2020, 2018, 2001, 2017, 2012, 2019, 2016, 2015, 2013, 2009, 2021, 2011, 2014, 2007, 2010, 2006, 2003, 2004, 2008],\n",
    "    'Telespettatori_Media': [14.400, 15.950, 15.975, 16.845, 10.625, 13.937, 15.275, 12.920, 12.625, 14.548, 11.479, 11.366, 11.270, 13.786, 13.694, 15.267, 14.316, 12.734, 10.114, 10.869, 10.989, 10.853, 11.136, 9.763, 10.746, 10.837, 11.936, 10.335, 8.466, 11.450, 8.763, 9.731, 10.924, 8.280, 8.888, 8.947, 6.810],\n",
    "    'Share_Media': [63.35, 68.71, 66.13, 66.42, 63.38, 58.11, 60.32, 54.25, 53.63, 56.02, 54.02, 52.79, 58.00, 52.29, 52.62, 56.11, 63.88, 52.99, 54.78, 52.16, 47.42, 50.42, 47.29, 49.38, 49.58, 48.64, 47.49, 47.96, 46.24, 47.70, 39.32, 48.07, 47.84, 40.17, 43.44, 38.98, 36.56]\n",
    "}\n",
    "\n",
    "df = pd.DataFrame(data)\n",
    "\n",
    "\n",
    "fig = px.scatter(df, x='Telespettatori_Media', y='Share_Media', color='Anno', size='Anno',\n",
    "                 labels={'Telespettatori_Media': 'Telespettatori Media (milioni)',\n",
    "                         'Share_Media': 'Share Media (%)'},\n",
    "                 title='Grafico a Dispersione Interattivo Telespettatori Media vs Share Media',\n",
    "                 hover_data=['Edizione'])\n",
    "\n",
    "fig.show()\n"
   ]
  },
  {
   "cell_type": "markdown",
   "metadata": {},
   "source": [
    "Media telespettatori per ciascuna edizione del Festival"
   ]
  },
  {
   "cell_type": "code",
   "execution_count": 2,
   "metadata": {},
   "outputs": [
    {
     "data": {
      "application/vnd.plotly.v1+json": {
       "config": {
        "plotlyServerURL": "https://plot.ly"
       },
       "data": [
        {
         "alignmentgroup": "True",
         "hovertemplate": "<b>%{hovertext}</b><br><br>Anno=%{x}<br>Media Telespettatori=%{marker.color}<extra></extra>",
         "hovertext": [
          "38ª",
          "37ª",
          "39ª",
          "45ª",
          "73ª",
          "47ª",
          "42ª",
          "50ª",
          "44ª",
          "49ª",
          "52ª",
          "55ª",
          "72ª",
          "41ª",
          "48ª",
          "43ª",
          "40ª",
          "46ª",
          "70ª",
          "68ª",
          "51ª",
          "67ª",
          "62ª",
          "69ª",
          "66ª",
          "65ª",
          "63ª",
          "59ª",
          "71ª",
          "61ª",
          "64ª",
          "57ª",
          "60ª",
          "56ª",
          "53ª",
          "54ª",
          "58ª"
         ],
         "legendgroup": "",
         "marker": {
          "color": [
           14.4,
           15.95,
           15.975,
           16.845,
           10.625,
           13.937,
           15.275,
           12.92,
           12.625,
           14.548,
           11.479,
           11.366,
           11.27,
           13.786,
           13.694,
           15.267,
           14.316,
           12.734,
           10.114,
           10.869,
           10.989,
           10.853,
           11.136,
           9.763,
           10.746,
           10.837,
           11.936,
           10.335,
           8.466,
           11.45,
           8.763,
           9.731,
           10.924,
           8.28,
           8.888,
           8.947,
           6.81
          ],
          "coloraxis": "coloraxis",
          "pattern": {
           "shape": ""
          }
         },
         "name": "",
         "offsetgroup": "",
         "orientation": "v",
         "showlegend": false,
         "text": [
          14.4,
          15.95,
          15.975,
          16.845,
          10.625,
          13.937,
          15.275,
          12.92,
          12.625,
          14.548,
          11.479,
          11.366,
          11.27,
          13.786,
          13.694,
          15.267,
          14.316,
          12.734,
          10.114,
          10.869,
          10.989,
          10.853,
          11.136,
          9.763,
          10.746,
          10.837,
          11.936,
          10.335,
          8.466,
          11.45,
          8.763,
          9.731,
          10.924,
          8.28,
          8.888,
          8.947,
          6.81
         ],
         "textposition": "auto",
         "type": "bar",
         "x": [
          1988,
          1987,
          1989,
          1995,
          2023,
          1997,
          1992,
          2000,
          1994,
          1999,
          2002,
          2005,
          2022,
          1991,
          1998,
          1993,
          1990,
          1996,
          2020,
          2018,
          2001,
          2017,
          2012,
          2019,
          2016,
          2015,
          2013,
          2009,
          2021,
          2011,
          2014,
          2007,
          2010,
          2006,
          2003,
          2004,
          2008
         ],
         "xaxis": "x",
         "y": [
          14.4,
          15.95,
          15.975,
          16.845,
          10.625,
          13.937,
          15.275,
          12.92,
          12.625,
          14.548,
          11.479,
          11.366,
          11.27,
          13.786,
          13.694,
          15.267,
          14.316,
          12.734,
          10.114,
          10.869,
          10.989,
          10.853,
          11.136,
          9.763,
          10.746,
          10.837,
          11.936,
          10.335,
          8.466,
          11.45,
          8.763,
          9.731,
          10.924,
          8.28,
          8.888,
          8.947,
          6.81
         ],
         "yaxis": "y"
        }
       ],
       "layout": {
        "barmode": "relative",
        "coloraxis": {
         "colorbar": {
          "title": {
           "text": "Media Telespettatori"
          }
         },
         "colorscale": [
          [
           0,
           "rgb(247,251,255)"
          ],
          [
           0.125,
           "rgb(222,235,247)"
          ],
          [
           0.25,
           "rgb(198,219,239)"
          ],
          [
           0.375,
           "rgb(158,202,225)"
          ],
          [
           0.5,
           "rgb(107,174,214)"
          ],
          [
           0.625,
           "rgb(66,146,198)"
          ],
          [
           0.75,
           "rgb(33,113,181)"
          ],
          [
           0.875,
           "rgb(8,81,156)"
          ],
          [
           1,
           "rgb(8,48,107)"
          ]
         ]
        },
        "legend": {
         "tracegroupgap": 0
        },
        "shapes": [
         {
          "line": {
           "color": "red",
           "dash": "dash",
           "width": 2
          },
          "name": "Massima (1995)",
          "type": "line",
          "x0": 1995,
          "x1": 1995,
          "y0": 0,
          "y1": 16.845
         },
         {
          "line": {
           "color": "green",
           "dash": "dash",
           "width": 2
          },
          "name": "Minima (2008)",
          "type": "line",
          "x0": 2008,
          "x1": 2008,
          "y0": 0,
          "y1": 16.845
         }
        ],
        "showlegend": true,
        "template": {
         "data": {
          "bar": [
           {
            "error_x": {
             "color": "#2a3f5f"
            },
            "error_y": {
             "color": "#2a3f5f"
            },
            "marker": {
             "line": {
              "color": "#E5ECF6",
              "width": 0.5
             },
             "pattern": {
              "fillmode": "overlay",
              "size": 10,
              "solidity": 0.2
             }
            },
            "type": "bar"
           }
          ],
          "barpolar": [
           {
            "marker": {
             "line": {
              "color": "#E5ECF6",
              "width": 0.5
             },
             "pattern": {
              "fillmode": "overlay",
              "size": 10,
              "solidity": 0.2
             }
            },
            "type": "barpolar"
           }
          ],
          "carpet": [
           {
            "aaxis": {
             "endlinecolor": "#2a3f5f",
             "gridcolor": "white",
             "linecolor": "white",
             "minorgridcolor": "white",
             "startlinecolor": "#2a3f5f"
            },
            "baxis": {
             "endlinecolor": "#2a3f5f",
             "gridcolor": "white",
             "linecolor": "white",
             "minorgridcolor": "white",
             "startlinecolor": "#2a3f5f"
            },
            "type": "carpet"
           }
          ],
          "choropleth": [
           {
            "colorbar": {
             "outlinewidth": 0,
             "ticks": ""
            },
            "type": "choropleth"
           }
          ],
          "contour": [
           {
            "colorbar": {
             "outlinewidth": 0,
             "ticks": ""
            },
            "colorscale": [
             [
              0,
              "#0d0887"
             ],
             [
              0.1111111111111111,
              "#46039f"
             ],
             [
              0.2222222222222222,
              "#7201a8"
             ],
             [
              0.3333333333333333,
              "#9c179e"
             ],
             [
              0.4444444444444444,
              "#bd3786"
             ],
             [
              0.5555555555555556,
              "#d8576b"
             ],
             [
              0.6666666666666666,
              "#ed7953"
             ],
             [
              0.7777777777777778,
              "#fb9f3a"
             ],
             [
              0.8888888888888888,
              "#fdca26"
             ],
             [
              1,
              "#f0f921"
             ]
            ],
            "type": "contour"
           }
          ],
          "contourcarpet": [
           {
            "colorbar": {
             "outlinewidth": 0,
             "ticks": ""
            },
            "type": "contourcarpet"
           }
          ],
          "heatmap": [
           {
            "colorbar": {
             "outlinewidth": 0,
             "ticks": ""
            },
            "colorscale": [
             [
              0,
              "#0d0887"
             ],
             [
              0.1111111111111111,
              "#46039f"
             ],
             [
              0.2222222222222222,
              "#7201a8"
             ],
             [
              0.3333333333333333,
              "#9c179e"
             ],
             [
              0.4444444444444444,
              "#bd3786"
             ],
             [
              0.5555555555555556,
              "#d8576b"
             ],
             [
              0.6666666666666666,
              "#ed7953"
             ],
             [
              0.7777777777777778,
              "#fb9f3a"
             ],
             [
              0.8888888888888888,
              "#fdca26"
             ],
             [
              1,
              "#f0f921"
             ]
            ],
            "type": "heatmap"
           }
          ],
          "heatmapgl": [
           {
            "colorbar": {
             "outlinewidth": 0,
             "ticks": ""
            },
            "colorscale": [
             [
              0,
              "#0d0887"
             ],
             [
              0.1111111111111111,
              "#46039f"
             ],
             [
              0.2222222222222222,
              "#7201a8"
             ],
             [
              0.3333333333333333,
              "#9c179e"
             ],
             [
              0.4444444444444444,
              "#bd3786"
             ],
             [
              0.5555555555555556,
              "#d8576b"
             ],
             [
              0.6666666666666666,
              "#ed7953"
             ],
             [
              0.7777777777777778,
              "#fb9f3a"
             ],
             [
              0.8888888888888888,
              "#fdca26"
             ],
             [
              1,
              "#f0f921"
             ]
            ],
            "type": "heatmapgl"
           }
          ],
          "histogram": [
           {
            "marker": {
             "pattern": {
              "fillmode": "overlay",
              "size": 10,
              "solidity": 0.2
             }
            },
            "type": "histogram"
           }
          ],
          "histogram2d": [
           {
            "colorbar": {
             "outlinewidth": 0,
             "ticks": ""
            },
            "colorscale": [
             [
              0,
              "#0d0887"
             ],
             [
              0.1111111111111111,
              "#46039f"
             ],
             [
              0.2222222222222222,
              "#7201a8"
             ],
             [
              0.3333333333333333,
              "#9c179e"
             ],
             [
              0.4444444444444444,
              "#bd3786"
             ],
             [
              0.5555555555555556,
              "#d8576b"
             ],
             [
              0.6666666666666666,
              "#ed7953"
             ],
             [
              0.7777777777777778,
              "#fb9f3a"
             ],
             [
              0.8888888888888888,
              "#fdca26"
             ],
             [
              1,
              "#f0f921"
             ]
            ],
            "type": "histogram2d"
           }
          ],
          "histogram2dcontour": [
           {
            "colorbar": {
             "outlinewidth": 0,
             "ticks": ""
            },
            "colorscale": [
             [
              0,
              "#0d0887"
             ],
             [
              0.1111111111111111,
              "#46039f"
             ],
             [
              0.2222222222222222,
              "#7201a8"
             ],
             [
              0.3333333333333333,
              "#9c179e"
             ],
             [
              0.4444444444444444,
              "#bd3786"
             ],
             [
              0.5555555555555556,
              "#d8576b"
             ],
             [
              0.6666666666666666,
              "#ed7953"
             ],
             [
              0.7777777777777778,
              "#fb9f3a"
             ],
             [
              0.8888888888888888,
              "#fdca26"
             ],
             [
              1,
              "#f0f921"
             ]
            ],
            "type": "histogram2dcontour"
           }
          ],
          "mesh3d": [
           {
            "colorbar": {
             "outlinewidth": 0,
             "ticks": ""
            },
            "type": "mesh3d"
           }
          ],
          "parcoords": [
           {
            "line": {
             "colorbar": {
              "outlinewidth": 0,
              "ticks": ""
             }
            },
            "type": "parcoords"
           }
          ],
          "pie": [
           {
            "automargin": true,
            "type": "pie"
           }
          ],
          "scatter": [
           {
            "fillpattern": {
             "fillmode": "overlay",
             "size": 10,
             "solidity": 0.2
            },
            "type": "scatter"
           }
          ],
          "scatter3d": [
           {
            "line": {
             "colorbar": {
              "outlinewidth": 0,
              "ticks": ""
             }
            },
            "marker": {
             "colorbar": {
              "outlinewidth": 0,
              "ticks": ""
             }
            },
            "type": "scatter3d"
           }
          ],
          "scattercarpet": [
           {
            "marker": {
             "colorbar": {
              "outlinewidth": 0,
              "ticks": ""
             }
            },
            "type": "scattercarpet"
           }
          ],
          "scattergeo": [
           {
            "marker": {
             "colorbar": {
              "outlinewidth": 0,
              "ticks": ""
             }
            },
            "type": "scattergeo"
           }
          ],
          "scattergl": [
           {
            "marker": {
             "colorbar": {
              "outlinewidth": 0,
              "ticks": ""
             }
            },
            "type": "scattergl"
           }
          ],
          "scattermapbox": [
           {
            "marker": {
             "colorbar": {
              "outlinewidth": 0,
              "ticks": ""
             }
            },
            "type": "scattermapbox"
           }
          ],
          "scatterpolar": [
           {
            "marker": {
             "colorbar": {
              "outlinewidth": 0,
              "ticks": ""
             }
            },
            "type": "scatterpolar"
           }
          ],
          "scatterpolargl": [
           {
            "marker": {
             "colorbar": {
              "outlinewidth": 0,
              "ticks": ""
             }
            },
            "type": "scatterpolargl"
           }
          ],
          "scatterternary": [
           {
            "marker": {
             "colorbar": {
              "outlinewidth": 0,
              "ticks": ""
             }
            },
            "type": "scatterternary"
           }
          ],
          "surface": [
           {
            "colorbar": {
             "outlinewidth": 0,
             "ticks": ""
            },
            "colorscale": [
             [
              0,
              "#0d0887"
             ],
             [
              0.1111111111111111,
              "#46039f"
             ],
             [
              0.2222222222222222,
              "#7201a8"
             ],
             [
              0.3333333333333333,
              "#9c179e"
             ],
             [
              0.4444444444444444,
              "#bd3786"
             ],
             [
              0.5555555555555556,
              "#d8576b"
             ],
             [
              0.6666666666666666,
              "#ed7953"
             ],
             [
              0.7777777777777778,
              "#fb9f3a"
             ],
             [
              0.8888888888888888,
              "#fdca26"
             ],
             [
              1,
              "#f0f921"
             ]
            ],
            "type": "surface"
           }
          ],
          "table": [
           {
            "cells": {
             "fill": {
              "color": "#EBF0F8"
             },
             "line": {
              "color": "white"
             }
            },
            "header": {
             "fill": {
              "color": "#C8D4E3"
             },
             "line": {
              "color": "white"
             }
            },
            "type": "table"
           }
          ]
         },
         "layout": {
          "annotationdefaults": {
           "arrowcolor": "#2a3f5f",
           "arrowhead": 0,
           "arrowwidth": 1
          },
          "autotypenumbers": "strict",
          "coloraxis": {
           "colorbar": {
            "outlinewidth": 0,
            "ticks": ""
           }
          },
          "colorscale": {
           "diverging": [
            [
             0,
             "#8e0152"
            ],
            [
             0.1,
             "#c51b7d"
            ],
            [
             0.2,
             "#de77ae"
            ],
            [
             0.3,
             "#f1b6da"
            ],
            [
             0.4,
             "#fde0ef"
            ],
            [
             0.5,
             "#f7f7f7"
            ],
            [
             0.6,
             "#e6f5d0"
            ],
            [
             0.7,
             "#b8e186"
            ],
            [
             0.8,
             "#7fbc41"
            ],
            [
             0.9,
             "#4d9221"
            ],
            [
             1,
             "#276419"
            ]
           ],
           "sequential": [
            [
             0,
             "#0d0887"
            ],
            [
             0.1111111111111111,
             "#46039f"
            ],
            [
             0.2222222222222222,
             "#7201a8"
            ],
            [
             0.3333333333333333,
             "#9c179e"
            ],
            [
             0.4444444444444444,
             "#bd3786"
            ],
            [
             0.5555555555555556,
             "#d8576b"
            ],
            [
             0.6666666666666666,
             "#ed7953"
            ],
            [
             0.7777777777777778,
             "#fb9f3a"
            ],
            [
             0.8888888888888888,
             "#fdca26"
            ],
            [
             1,
             "#f0f921"
            ]
           ],
           "sequentialminus": [
            [
             0,
             "#0d0887"
            ],
            [
             0.1111111111111111,
             "#46039f"
            ],
            [
             0.2222222222222222,
             "#7201a8"
            ],
            [
             0.3333333333333333,
             "#9c179e"
            ],
            [
             0.4444444444444444,
             "#bd3786"
            ],
            [
             0.5555555555555556,
             "#d8576b"
            ],
            [
             0.6666666666666666,
             "#ed7953"
            ],
            [
             0.7777777777777778,
             "#fb9f3a"
            ],
            [
             0.8888888888888888,
             "#fdca26"
            ],
            [
             1,
             "#f0f921"
            ]
           ]
          },
          "colorway": [
           "#636efa",
           "#EF553B",
           "#00cc96",
           "#ab63fa",
           "#FFA15A",
           "#19d3f3",
           "#FF6692",
           "#B6E880",
           "#FF97FF",
           "#FECB52"
          ],
          "font": {
           "color": "#2a3f5f"
          },
          "geo": {
           "bgcolor": "white",
           "lakecolor": "white",
           "landcolor": "#E5ECF6",
           "showlakes": true,
           "showland": true,
           "subunitcolor": "white"
          },
          "hoverlabel": {
           "align": "left"
          },
          "hovermode": "closest",
          "mapbox": {
           "style": "light"
          },
          "paper_bgcolor": "white",
          "plot_bgcolor": "#E5ECF6",
          "polar": {
           "angularaxis": {
            "gridcolor": "white",
            "linecolor": "white",
            "ticks": ""
           },
           "bgcolor": "#E5ECF6",
           "radialaxis": {
            "gridcolor": "white",
            "linecolor": "white",
            "ticks": ""
           }
          },
          "scene": {
           "xaxis": {
            "backgroundcolor": "#E5ECF6",
            "gridcolor": "white",
            "gridwidth": 2,
            "linecolor": "white",
            "showbackground": true,
            "ticks": "",
            "zerolinecolor": "white"
           },
           "yaxis": {
            "backgroundcolor": "#E5ECF6",
            "gridcolor": "white",
            "gridwidth": 2,
            "linecolor": "white",
            "showbackground": true,
            "ticks": "",
            "zerolinecolor": "white"
           },
           "zaxis": {
            "backgroundcolor": "#E5ECF6",
            "gridcolor": "white",
            "gridwidth": 2,
            "linecolor": "white",
            "showbackground": true,
            "ticks": "",
            "zerolinecolor": "white"
           }
          },
          "shapedefaults": {
           "line": {
            "color": "#2a3f5f"
           }
          },
          "ternary": {
           "aaxis": {
            "gridcolor": "white",
            "linecolor": "white",
            "ticks": ""
           },
           "baxis": {
            "gridcolor": "white",
            "linecolor": "white",
            "ticks": ""
           },
           "bgcolor": "#E5ECF6",
           "caxis": {
            "gridcolor": "white",
            "linecolor": "white",
            "ticks": ""
           }
          },
          "title": {
           "x": 0.05
          },
          "xaxis": {
           "automargin": true,
           "gridcolor": "white",
           "linecolor": "white",
           "ticks": "",
           "title": {
            "standoff": 15
           },
           "zerolinecolor": "white",
           "zerolinewidth": 2
          },
          "yaxis": {
           "automargin": true,
           "gridcolor": "white",
           "linecolor": "white",
           "ticks": "",
           "title": {
            "standoff": 15
           },
           "zerolinecolor": "white",
           "zerolinewidth": 2
          }
         }
        },
        "title": {
         "text": "Media Telespettatori per Anno"
        },
        "xaxis": {
         "anchor": "y",
         "domain": [
          0,
          1
         ],
         "tickangle": 45,
         "tickmode": "linear",
         "title": {
          "text": "Anno"
         }
        },
        "yaxis": {
         "anchor": "x",
         "domain": [
          0,
          1
         ],
         "title": {
          "text": "Media Telespettatori"
         }
        }
       }
      }
     },
     "metadata": {},
     "output_type": "display_data"
    }
   ],
   "source": [
    "import pandas as pd\n",
    "import plotly.express as px\n",
    "\n",
    "\n",
    "data = {\n",
    "    'Edizione': ['38ª', '37ª', '39ª', '45ª', '73ª', '47ª', '42ª', '50ª', '44ª', '49ª', '52ª', '55ª', '72ª', '41ª', '48ª', '43ª', '40ª', '46ª', '70ª', '68ª', '51ª', '67ª', '62ª', '69ª', '66ª', '65ª', '63ª', '59ª', '71ª', '61ª', '64ª', '57ª', '60ª', '56ª', '53ª', '54ª', '58ª'],\n",
    "    'Anno': [1988, 1987, 1989, 1995, 2023, 1997, 1992, 2000, 1994, 1999, 2002, 2005, 2022, 1991, 1998, 1993, 1990, 1996, 2020, 2018, 2001, 2017, 2012, 2019, 2016, 2015, 2013, 2009, 2021, 2011, 2014, 2007, 2010, 2006, 2003, 2004, 2008],\n",
    "    'Telespettatori_Media': [14.400, 15.950, 15.975, 16.845, 10.625, 13.937, 15.275, 12.920, 12.625, 14.548, 11.479, 11.366, 11.270, 13.786, 13.694, 15.267, 14.316, 12.734, 10.114, 10.869, 10.989, 10.853, 11.136, 9.763, 10.746, 10.837, 11.936, 10.335, 8.466, 11.450, 8.763, 9.731, 10.924, 8.280, 8.888, 8.947, 6.810],\n",
    "    'Share_Media': [63.35, 68.71, 66.13, 66.42, 63.38, 58.11, 60.32, 54.25, 53.63, 56.02, 54.02, 52.79, 58.00, 52.29, 52.62, 56.11, 63.88, 52.99, 54.78, 52.16, 47.42, 50.42, 47.29, 49.38, 49.58, 48.64, 47.49, 47.96, 46.24, 47.70, 39.32, 48.07, 47.84, 40.17, 43.44, 38.98, 36.56]\n",
    "}\n",
    "\n",
    "df = pd.DataFrame(data)\n",
    "\n",
    "\n",
    "fig = px.bar(df, x='Anno', y='Telespettatori_Media', text='Telespettatori_Media',\n",
    "             title='Media Telespettatori per Anno', labels={'Telespettatori_Media': 'Media Telespettatori'},\n",
    "             hover_name='Edizione', color='Telespettatori_Media',\n",
    "             color_continuous_scale=px.colors.sequential.Blues)\n",
    "\n",
    "\n",
    "anno_max_media = df.loc[df['Telespettatori_Media'].idxmax()]['Anno']\n",
    "anno_min_media = df.loc[df['Telespettatori_Media'].idxmin()]['Anno']\n",
    "\n",
    "fig.add_shape(type='line', x0=anno_max_media, x1=anno_max_media, y0=0, y1=df['Telespettatori_Media'].max(),\n",
    "              line=dict(color='red', width=2, dash='dash'), name=f'Massima ({anno_max_media})')\n",
    "\n",
    "fig.add_shape(type='line', x0=anno_min_media, x1=anno_min_media, y0=0, y1=df['Telespettatori_Media'].max(),\n",
    "              line=dict(color='green', width=2, dash='dash'), name=f'Minima ({anno_min_media})')\n",
    "\n",
    "\n",
    "fig.update_layout(xaxis=dict(tickmode='linear', tickangle=45),\n",
    "                  yaxis=dict(title='Media Telespettatori'),\n",
    "                  showlegend=True)\n",
    "\n",
    "\n",
    "fig.show()\n"
   ]
  },
  {
   "cell_type": "markdown",
   "metadata": {},
   "source": [
    "Distribuzione dei telespettatori e dello share"
   ]
  },
  {
   "cell_type": "code",
   "execution_count": 9,
   "metadata": {},
   "outputs": [
    {
     "data": {
      "image/png": "[encoded data removed]",
      "text/plain": [
       "<Figure size 1200x600 with 2 Axes>"
      ]
     },
     "metadata": {},
     "output_type": "display_data"
    },
    {
     "data": {
      "image/png": "[encoded data removed]",
      "text/plain": [
       "<Figure size 1200x600 with 2 Axes>"
      ]
     },
     "metadata": {},
     "output_type": "display_data"
    }
   ],
   "source": [
    "import pandas as pd\n",
    "import matplotlib.pyplot as plt\n",
    "\n",
    "\n",
    "data = {\n",
    "    'Edizione': ['38ª', '37ª', '39ª', '45ª', '73ª', '47ª', '42ª', '50ª', '44ª', '49ª', '52ª', '55ª', '72ª', '41ª', '48ª', '43ª', '40ª', '46ª', '70ª', '68ª', '51ª', '67ª', '62ª', '69ª', '66ª', '65ª', '63ª', '59ª', '71ª', '61ª', '64ª', '57ª', '60ª', '56ª', '53ª', '54ª', '58ª'],\n",
    "    'Anno': [1988, 1987, 1989, 1995, 2023, 1997, 1992, 2000, 1994, 1999, 2002, 2005, 2022, 1991, 1998, 1993, 1990, 1996, 2020, 2018, 2001, 2017, 2012, 2019, 2016, 2015, 2013, 2009, 2021, 2011, 2014, 2007, 2010, 2006, 2003, 2004, 2008],\n",
    "    'Telespettatori_Media': [14.400, 15.950, 15.975, 16.845, 10.625, 13.937, 15.275, 12.920, 12.625, 14.548, 11.479, 11.366, 11.270, 13.786, 13.694, 15.267, 14.316, 12.734, 10.114, 10.869, 10.989, 10.853, 11.136, 9.763, 10.746, 10.837, 11.936, 10.335, 8.466, 11.450, 8.763, 9.731, 10.924, 8.280, 8.888, 8.947, 6.810],\n",
    "    'Share_Media': [63.35, 68.71, 66.13, 66.42, 63.38, 58.11, 60.32, 54.25, 53.63, 56.02, 54.02, 52.79, 58.00, 52.29, 52.62, 56.11, 63.88, 52.99, 54.78, 52.16, 47.42, 50.42, 47.29, 49.38, 49.58, 48.64, 47.49, 47.96, 46.24, 47.70, 39.32, 48.07, 47.84, 40.17, 43.44, 38.98, 36.56]\n",
    "}\n",
    "\n",
    "df = pd.DataFrame(data)\n",
    "\n",
    "\n",
    "plt.figure(figsize=(12, 6))\n",
    "plt.subplot(1, 2, 1)\n",
    "plt.hist(df['Telespettatori_Media'], bins=10, color='blue', alpha=0.7)\n",
    "plt.title('Distribuzione Telespettatori')\n",
    "plt.xlabel('Telespettatori Media (milioni)')\n",
    "plt.ylabel('Frequenza')\n",
    "plt.subplot(1, 2, 2)\n",
    "plt.hist(df['Share_Media'], bins=10, color='green', alpha=0.7)\n",
    "plt.title('Distribuzione Share')\n",
    "plt.xlabel('Share Media (%)')\n",
    "plt.ylabel('Frequenza')\n",
    "plt.tight_layout()\n",
    "plt.show()\n",
    "plt.figure(figsize=(12, 6))\n",
    "plt.subplot(1, 2, 1)\n",
    "plt.boxplot(df['Telespettatori_Media'])\n",
    "plt.title('Boxplot Telespettatori')\n",
    "plt.ylabel('Telespettatori Media (milioni)')\n",
    "plt.subplot(1, 2, 2)\n",
    "plt.boxplot(df['Share_Media'])\n",
    "plt.title('Boxplot Share')\n",
    "plt.ylabel('Share Media (%)')\n",
    "plt.tight_layout()\n",
    "plt.show()\n"
   ]
  },
  {
   "cell_type": "markdown",
   "metadata": {},
   "source": [
    "Correlazione tra spettatori e share"
   ]
  },
  {
   "cell_type": "code",
   "execution_count": 10,
   "metadata": {},
   "outputs": [
    {
     "data": {
      "image/png": "[encoded data removed]",
      "text/plain": [
       "<Figure size 800x600 with 2 Axes>"
      ]
     },
     "metadata": {},
     "output_type": "display_data"
    },
    {
     "data": {
      "image/png": "[encoded data removed]",
      "text/plain": [
       "<Figure size 800x600 with 2 Axes>"
      ]
     },
     "metadata": {},
     "output_type": "display_data"
    }
   ],
   "source": [
    "import pandas as pd\n",
    "import matplotlib.pyplot as plt\n",
    "import seaborn as sns\n",
    "\n",
    "\n",
    "data = {\n",
    "    'Edizione': ['38ª', '37ª', '39ª', '45ª', '73ª', '47ª', '42ª', '50ª', '44ª', '49ª', '52ª', '55ª', '72ª', '41ª', '48ª', '43ª', '40ª', '46ª', '70ª', '68ª', '51ª', '67ª', '62ª', '69ª', '66ª', '65ª', '63ª', '59ª', '71ª', '61ª', '64ª', '57ª', '60ª', '56ª', '53ª', '54ª', '58ª'],\n",
    "    'Anno': [1988, 1987, 1989, 1995, 2023, 1997, 1992, 2000, 1994, 1999, 2002, 2005, 2022, 1991, 1998, 1993, 1990, 1996, 2020, 2018, 2001, 2017, 2012, 2019, 2016, 2015, 2013, 2009, 2021, 2011, 2014, 2007, 2010, 2006, 2003, 2004, 2008],\n",
    "    'Telespettatori_Media': [14.400, 15.950, 15.975, 16.845, 10.625, 13.937, 15.275, 12.920, 12.625, 14.548, 11.479, 11.366, 11.270, 13.786, 13.694, 15.267, 14.316, 12.734, 10.114, 10.869, 10.989, 10.853, 11.136, 9.763, 10.746, 10.837, 11.936, 10.335, 8.466, 11.450, 8.763, 9.731, 10.924, 8.280, 8.888, 8.947, 6.810],\n",
    "    'Share_Media': [63.35, 68.71, 66.13, 66.42, 63.38, 58.11, 60.32, 54.25, 53.63, 56.02, 54.02, 52.79, 58.00, 52.29, 52.62, 56.11, 63.88, 52.99, 54.78, 52.16, 47.42, 50.42, 47.29, 49.38, 49.58, 48.64, 47.49, 47.96, 46.24, 47.70, 39.32, 48.07, 47.84, 40.17, 43.44, 38.98, 36.56]\n",
    "}\n",
    "\n",
    "df = pd.DataFrame(data)\n",
    "\n",
    "\n",
    "correlation = df['Telespettatori_Media'].corr(df['Share_Media'])\n",
    "\n",
    "\n",
    "plt.figure(figsize=(8, 6))\n",
    "plt.scatter(df['Telespettatori_Media'], df['Share_Media'], c=df['Anno'], cmap='viridis', s=100, alpha=0.8, edgecolors='w', linewidths=1)\n",
    "plt.title(f'Grafico a Dispersione\\nCorrelazione: {correlation:.2f}')\n",
    "plt.xlabel('Telespettatori Media (milioni)')\n",
    "plt.ylabel('Share Media (%)')\n",
    "plt.colorbar(label='Anno')\n",
    "plt.grid(True)\n",
    "plt.show()\n",
    "\n",
    "\n",
    "correlation_matrix = df[['Telespettatori_Media', 'Share_Media']].corr()\n",
    "plt.figure(figsize=(8, 6))\n",
    "sns.heatmap(correlation_matrix, annot=True, cmap='coolwarm', fmt=\".2f\", linewidths=.5)\n",
    "plt.title('Heatmap di Correlazione tra Telespettatori e Share')\n",
    "plt.show()\n"
   ]
  },
  {
   "cell_type": "markdown",
   "metadata": {},
   "source": [
    "Confronto telespettatori in prima serata"
   ]
  },
  {
   "cell_type": "code",
   "execution_count": 33,
   "metadata": {},
   "outputs": [
    {
     "data": {
      "image/png": "[encoded data removed]",
      "text/plain": [
       "<Figure size 1600x800 with 1 Axes>"
      ]
     },
     "metadata": {},
     "output_type": "display_data"
    }
   ],
   "source": [
    "import pandas as pd\n",
    "import matplotlib.pyplot as plt\n",
    "\n",
    "\n",
    "data = {\n",
    "    'Edizione': ['50ª', '45ª', '38ª', '41ª', '43ª', '40ª', '44ª', '47ª', '63ª', '62ª', '52ª', '55ª', '51ª', '61ª', '65ª', '68ª', '67ª', '46ª', '66ª', '48ª', '64ª', '72ª', '73ª', '60ª', '59ª', '54ª', '69ª', '70ª', '57ª', '53ª', '56ª', '71ª', '65ª', '58ª'],\n",
    "    'Anno': ['2000', '1995', '1998', '2001', '2003', '1996', '2002', '1997', '2013', '2012', '2005', '2008', '2001', '2011', '2015', '2018', '2017', '1996', '2016', '1998', '2014', '2022', '2023', '2010', '2009', '2004', '2019', '2020', '2007', '2003', '2006', '2021', '2014', '2008'],\n",
    "    'Telespettatori_Prima_Serata': ['11 786 000', '15 825 000', '13 000 000', '11 156 000', '14 427 000', '13 639 000', '13 100 000', '13 382 000', '11 538 000', '9 931 000', '10 387 000', '8 682 000', '10 010 000', '10 617 000', '9 857 000', '10 108 000', '9 886 000', '13 003 000', '10 164 000', '12 742 000', '8 188 000', '11 378 000', '11 121 000', '13 006 000', '7 673 000', '11 328 000', '9 240 000', '10 693 000', '9 309 000', '10 469 000', '8 267 000', '7 653 000', '8 467 000', '7 653 000']\n",
    "}\n",
    "\n",
    "df = pd.DataFrame(data)\n",
    "df['Telespettatori_Prima_Serata'] = df['Telespettatori_Prima_Serata'].replace({' ': '', ',': ''}, regex=True).astype(float)\n",
    "plt.figure(figsize=(16, 8))\n",
    "plt.bar(df['Anno'], df['Telespettatori_Prima_Serata'], color='yellow')\n",
    "plt.title('Confronto Telespettatori Prima Serata')\n",
    "plt.xlabel('Anno')\n",
    "plt.ylabel('Telespettatori Prima Serata (milioni)')\n",
    "plt.show()\n"
   ]
  },
  {
   "cell_type": "markdown",
   "metadata": {},
   "source": [
    "Cantanti con più di una vittoria al Festival (senza tenere conto dei cantanti in coppia)"
   ]
  },
  {
   "cell_type": "code",
   "execution_count": 29,
   "metadata": {},
   "outputs": [
    {
     "data": {
      "image/png": "[encoded data removed]",
      "text/plain": [
       "<Figure size 1200x600 with 1 Axes>"
      ]
     },
     "metadata": {},
     "output_type": "display_data"
    }
   ],
   "source": [
    "import pandas as pd\n",
    "import matplotlib.pyplot as plt\n",
    "\n",
    "\n",
    "data = {\n",
    "    'Anno': [1951, 1952, 1953, 1954, 1955, 1956, 1957, 1958, 1959, 1960,\n",
    "             1961, 1962, 1963, 1964, 1965, 1966, 1967, 1968, 1969, 1970,\n",
    "             1971, 1972, 1973, 1974, 1975, 1976, 1977, 1978, 1979, 1980,\n",
    "             1981, 1982, 1983, 1984, 1985, 1986, 1987, 1988, 1989, 1990,\n",
    "             1991, 1992, 1993, 1994, 1995, 1996, 1997, 1998, 1999, 2000,\n",
    "             2001, 2002, 2003, 2004, 2005, 2006, 2007, 2008, 2009, 2010,\n",
    "             2011, 2012, 2013, 2014, 2015, 2016, 2017, 2018, 2019, 2020,\n",
    "             2021, 2022],\n",
    "    'Vincitore': ['Nilla Pizzi', 'Nilla Pizzi', 'Carla Boni, Flo Sandon’s',\n",
    "                  'Giorgio Consolini, Gino Latilla', 'Claudio Villa, Tullio Pane',\n",
    "                  'Franca Raimondi', 'Claudio Villa, Nunzio Gallo',\n",
    "                  'Domenico Modugno, Johnny Dorelli', 'Domenico Modugno, Johnny Dorelli',\n",
    "                  'Tony Dallara, Renato Rascel', 'Betty Curtis, Luciano Tajoli',\n",
    "                  'Domenico Modugno, Claudio Villa', 'Tony Renis, Emilio Pericoli',\n",
    "                  'Gigliola Cinquetti, Patricia Carli', 'Bobby Solo, New Christy Minstrels',\n",
    "                  'Domenico Modugno, Gigliola Cinquetti', 'Claudio Villa, Iva Zanicchi',\n",
    "                  'Sergio Endrigo, Roberto Carlos Braga', 'Bobby Solo, Iva Zanicchi',\n",
    "                  'Adriano Celentano, Claudia Mori', 'Nada, Nicola Di Bari',\n",
    "                  'Nicola Di Bari', 'Peppino Di Capri', 'Iva Zanicchi',\n",
    "                  'Gilda', 'Peppino Di Capri', 'Homo Sapiens',\n",
    "                  'Matia Bazar', 'Mino Vergnaghi', 'Toto Cutugno',\n",
    "                  'Alice', 'Riccardo Fogli', 'Tiziana Rivale',\n",
    "                  'Al Bano, Romina Power', 'Ricchi e Poveri',\n",
    "                  'Eros Ramazzotti', 'Gianni Morandi, Enrico Ruggeri, Umberto Tozzi',\n",
    "                  'Massimo Ranieri', 'Anna Oxa, Fausto Leali',\n",
    "                  'Pooh', 'Riccardo Cocciante', 'Luca Barbarossa',\n",
    "                  'Enrico Ruggeri', 'Aleandro Baldi', 'Giorgia',\n",
    "                  'Ron, Tosca', 'Jalisse', 'Annalisa Minetti',\n",
    "                  'Anna Oxa', 'Avion Travel', 'Elisa',\n",
    "                  'Matia Bazar', 'Alexia', 'Marco Masini',\n",
    "                  'Francesco Renga', 'Povia', 'Simone Cristicchi',\n",
    "                  'Giò Di Tonno, Lola Ponce', 'Marco Carta',\n",
    "                  'Valerio Scanu', 'Roberto Vecchioni', 'Emma',\n",
    "                  'Marco Mengoni', 'Arisa', 'Il Volo',\n",
    "                  'Stadio', 'Francesco Gabbani', 'Ermal Meta e Fabrizio Moro',\n",
    "                  'Mahmood', 'Diodato', 'Maneskin', 'Mahmood e Blanco']\n",
    "}\n",
    "\n",
    "df = pd.DataFrame(data)\n",
    "vincitori_conteggio = df['Vincitore'].value_counts()\n",
    "vincitori_multipli = vincitori_conteggio[vincitori_conteggio > 1]\n",
    "plt.figure(figsize=(12, 6))\n",
    "vincitori_multipli.plot(kind='bar', color='yellow')\n",
    "plt.title('Cantanti con più vittorie al Festival di Sanremo')\n",
    "plt.xlabel('Cantante')\n",
    "plt.ylabel('Numero di Vittorie')\n",
    "plt.xticks(rotation=45, ha='right')\n",
    "plt.show()\n"
   ]
  }
 ],
 "metadata": {
  "kernelspec": {
   "display_name": "Python 3",
   "language": "python",
   "name": "python3"
  },
  "language_info": {
   "codemirror_mode": {
    "name": "ipython",
    "version": 3
   },
   "file_extension": ".py",
   "mimetype": "text/x-python",
   "name": "python",
   "nbconvert_exporter": "python",
   "pygments_lexer": "ipython3",
   "version": "3.11.7"
  }
 },
 "nbformat": 4,
 "nbformat_minor": 2
}
