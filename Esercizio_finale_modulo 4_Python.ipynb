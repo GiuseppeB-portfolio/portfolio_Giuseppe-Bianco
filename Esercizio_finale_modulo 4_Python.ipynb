{
 "cells": [
  {
   "cell_type": "markdown",
   "metadata": {},
   "source": [
    "Importare la libreria Pandas e caricare il dataset del file (l'ho caricato direttamente da url in traccia)"
   ]
  },
  {
   "cell_type": "code",
   "execution_count": 8,
   "metadata": {
    "tags": []
   },
   "outputs": [
    {
     "name": "stdout",
     "output_type": "stream",
     "text": [
      "Dimensioni del dataset: (344779, 67)\n",
      "Intestazione del dataset:\n",
      "iso_code\n",
      "continent\n",
      "location\n",
      "date\n",
      "total_cases\n",
      "new_cases\n",
      "new_cases_smoothed\n",
      "total_deaths\n",
      "new_deaths\n",
      "new_deaths_smoothed\n",
      "total_cases_per_million\n",
      "new_cases_per_million\n",
      "new_cases_smoothed_per_million\n",
      "total_deaths_per_million\n",
      "new_deaths_per_million\n",
      "new_deaths_smoothed_per_million\n",
      "reproduction_rate\n",
      "icu_patients\n",
      "icu_patients_per_million\n",
      "hosp_patients\n",
      "hosp_patients_per_million\n",
      "weekly_icu_admissions\n",
      "weekly_icu_admissions_per_million\n",
      "weekly_hosp_admissions\n",
      "weekly_hosp_admissions_per_million\n",
      "total_tests\n",
      "new_tests\n",
      "total_tests_per_thousand\n",
      "new_tests_per_thousand\n",
      "new_tests_smoothed\n",
      "new_tests_smoothed_per_thousand\n",
      "positive_rate\n",
      "tests_per_case\n",
      "tests_units\n",
      "total_vaccinations\n",
      "people_vaccinated\n",
      "people_fully_vaccinated\n",
      "total_boosters\n",
      "new_vaccinations\n",
      "new_vaccinations_smoothed\n",
      "total_vaccinations_per_hundred\n",
      "people_vaccinated_per_hundred\n",
      "people_fully_vaccinated_per_hundred\n",
      "total_boosters_per_hundred\n",
      "new_vaccinations_smoothed_per_million\n",
      "new_people_vaccinated_smoothed\n",
      "new_people_vaccinated_smoothed_per_hundred\n",
      "stringency_index\n",
      "population_density\n",
      "median_age\n",
      "aged_65_older\n",
      "aged_70_older\n",
      "gdp_per_capita\n",
      "extreme_poverty\n",
      "cardiovasc_death_rate\n",
      "diabetes_prevalence\n",
      "female_smokers\n",
      "male_smokers\n",
      "handwashing_facilities\n",
      "hospital_beds_per_thousand\n",
      "life_expectancy\n",
      "human_development_index\n",
      "population\n",
      "excess_mortality_cumulative_absolute\n",
      "excess_mortality_cumulative\n",
      "excess_mortality\n",
      "excess_mortality_cumulative_per_million\n"
     ]
    }
   ],
   "source": [
    "\n",
    "import pandas as pd\n",
    "url = \"https://raw.githubusercontent.com/owid/covid-19-data/master/public/data/owid-covid-data.csv\"\n",
    "df = pd.read_csv(url)\n",
    "\n",
    "dimensioni = df.shape\n",
    "print(\"Dimensioni del dataset:\", dimensioni)\n",
    "\n",
    "intestazione = df.columns.tolist()\n",
    "print(\"Intestazione del dataset:\")\n",
    "for col in intestazione:\n",
    "    print(col)\n"
   ]
  },
  {
   "cell_type": "markdown",
   "metadata": {
    "tags": []
   },
   "source": [
    "Si chiede poi per ogni continente di trovare il numero di casi totali avvenuti in quello stesso continente; si chiede di non considerare eventuali locazioni che nel dataset non appartengono ad alcun continente."
   ]
  },
  {
   "cell_type": "code",
   "execution_count": 9,
   "metadata": {
    "tags": []
   },
   "outputs": [
    {
     "name": "stdout",
     "output_type": "stream",
     "text": [
      "Numero di casi totali per continente:\n",
      "continent\n",
      "Africa           1.055757e+10\n",
      "Asia             1.590859e+11\n",
      "Europe           1.585444e+11\n",
      "North America    8.857894e+10\n",
      "Oceania          7.019318e+09\n",
      "South America    5.225882e+10\n",
      "Name: total_cases, dtype: float64\n"
     ]
    }
   ],
   "source": [
    "\n",
    "df = df.dropna(subset=['continent'])\n",
    "\n",
    "\n",
    "casi_totali_per_continente = df.groupby('continent')['total_cases'].sum()\n",
    "\n",
    "print(\"Numero di casi totali per continente:\")\n",
    "print(casi_totali_per_continente)\n"
   ]
  },
  {
   "cell_type": "markdown",
   "metadata": {},
   "source": [
    " Sempre riguardo i casi di COVID totali, si chiede di sviluppare una funzione che prenda in input il dataset e due nomi di continenti, e che ne confronti i seguenti relativi descrittori statistici: valori minimo e massimo, media, e percentuale rispetto al numero dei casi totali nel mondo (in questo caso calcolati anche sulle locazioni senza indicazione di continente)"
   ]
  },
  {
   "cell_type": "code",
   "execution_count": 10,
   "metadata": {},
   "outputs": [
    {
     "name": "stdout",
     "output_type": "stream",
     "text": [
      "Confronto tra Europe e South America:\n",
      "\n",
      "Minimo Europe: 1.00\n",
      "Massimo Europe: 38997490.00\n",
      "Media Europe: 2374414.89\n",
      "Percentuale Europe: 7.86\n",
      "Minimo South America: 1.00\n",
      "Massimo South America: 37720419.00\n",
      "Media South America: 2878005.23\n",
      "Percentuale South America: 2.59\n"
     ]
    }
   ],
   "source": [
    "import pandas as pd\n",
    "\n",
    "\n",
    "def confronta_statistiche(dataset, continente1, continente2):\n",
    "    # Filtra il dataset per i due continenti specificati\n",
    "    subset1 = dataset[dataset['continent'] == continente1]\n",
    "    subset2 = dataset[dataset['continent'] == continente2]\n",
    "\n",
    "    \n",
    "    minimo1 = subset1['total_cases'].min()\n",
    "    massimo1 = subset1['total_cases'].max()\n",
    "    media1 = subset1['total_cases'].mean()\n",
    "\n",
    "    minimo2 = subset2['total_cases'].min()\n",
    "    massimo2 = subset2['total_cases'].max()\n",
    "    media2 = subset2['total_cases'].mean()\n",
    "\n",
    "    \n",
    "    totale_mondo = dataset['total_cases'].sum()\n",
    "\n",
    "    \n",
    "    percentuale1 = (subset1['total_cases'].sum() / totale_mondo) * 100\n",
    "    percentuale2 = (subset2['total_cases'].sum() / totale_mondo) * 100\n",
    "\n",
    "    \n",
    "    risultati = {\n",
    "        f\"Minimo {continente1}\": minimo1,\n",
    "        f\"Massimo {continente1}\": massimo1,\n",
    "        f\"Media {continente1}\": media1,\n",
    "        f\"Percentuale {continente1}\": percentuale1,\n",
    "        f\"Minimo {continente2}\": minimo2,\n",
    "        f\"Massimo {continente2}\": massimo2,\n",
    "        f\"Media {continente2}\": media2,\n",
    "        f\"Percentuale {continente2}\": percentuale2,\n",
    "    }\n",
    "\n",
    "    return risultati\n",
    "\n",
    "\n",
    "url = \"https://raw.githubusercontent.com/owid/covid-19-data/master/public/data/owid-covid-data.csv\"\n",
    "df = pd.read_csv(url)\n",
    "\n",
    "continente1 = 'Europe'\n",
    "continente2 = 'South America'\n",
    "\n",
    "risultati = confronta_statistiche(df, continente1, continente2)\n",
    "print(f\"Confronto tra {continente1} e {continente2}:\\n\")\n",
    "for chiave, valore in risultati.items():\n",
    "    print(f\"{chiave}: {valore:.2f}\")\n"
   ]
  },
  {
   "cell_type": "markdown",
   "metadata": {},
   "source": [
    "Si chiede poi di effettuare lo stesso tipo di analisi - anche in questo caso sviluppando una funzione ad hoc - per il numero di vaccinazioni totali per ogni continente"
   ]
  },
  {
   "cell_type": "code",
   "execution_count": 11,
   "metadata": {},
   "outputs": [
    {
     "name": "stdout",
     "output_type": "stream",
     "text": [
      "Confronto tra Europe e South America per il numero di vaccinazioni totali:\n",
      "\n",
      "Minimo Europe (Vaccinazioni): 0.00\n",
      "Massimo Europe (Vaccinazioni): 192221468.00\n",
      "Media Europe (Vaccinazioni): 27486073.01\n",
      "Percentuale Europe (Vaccinazioni): 2.05\n",
      "Minimo South America (Vaccinazioni): 0.00\n",
      "Massimo South America (Vaccinazioni): 486436436.00\n",
      "Media South America (Vaccinazioni): 64872055.19\n",
      "Percentuale South America (Vaccinazioni): 1.18\n"
     ]
    }
   ],
   "source": [
    "import pandas as pd\n",
    "\n",
    "\n",
    "def confronta_statistiche_vaccinazioni(dataset, continente1, continente2):\n",
    "    # Filtra il dataset per i due continenti specificati\n",
    "    subset1 = dataset[dataset['continent'] == continente1]\n",
    "    subset2 = dataset[dataset['continent'] == continente2]\n",
    "\n",
    "    \n",
    "    minimo1 = subset1['total_vaccinations'].min()\n",
    "    massimo1 = subset1['total_vaccinations'].max()\n",
    "    media1 = subset1['total_vaccinations'].mean()\n",
    "\n",
    "    minimo2 = subset2['total_vaccinations'].min()\n",
    "    massimo2 = subset2['total_vaccinations'].max()\n",
    "    media2 = subset2['total_vaccinations'].mean()\n",
    "\n",
    "    \n",
    "    totale_mondo = dataset['total_vaccinations'].sum()\n",
    "\n",
    "    \n",
    "    percentuale1 = (subset1['total_vaccinations'].sum() / totale_mondo) * 100\n",
    "    percentuale2 = (subset2['total_vaccinations'].sum() / totale_mondo) * 100\n",
    "\n",
    "    \n",
    "    risultati = {\n",
    "        f\"Minimo {continente1} (Vaccinazioni)\": minimo1,\n",
    "        f\"Massimo {continente1} (Vaccinazioni)\": massimo1,\n",
    "        f\"Media {continente1} (Vaccinazioni)\": media1,\n",
    "        f\"Percentuale {continente1} (Vaccinazioni)\": percentuale1,\n",
    "        f\"Minimo {continente2} (Vaccinazioni)\": minimo2,\n",
    "        f\"Massimo {continente2} (Vaccinazioni)\": massimo2,\n",
    "        f\"Media {continente2} (Vaccinazioni)\": media2,\n",
    "        f\"Percentuale {continente2} (Vaccinazioni)\": percentuale2,\n",
    "    }\n",
    "\n",
    "    return risultati\n",
    "\n",
    "\n",
    "\n",
    "\n",
    "\n",
    "\n",
    "url = \"https://raw.githubusercontent.com/owid/covid-19-data/master/public/data/owid-covid-data.csv\"\n",
    "df = pd.read_csv(url)\n",
    "\n",
    "continente1 = 'Europe'\n",
    "continente2 = 'South America'\n",
    "\n",
    "risultati_vaccinazioni = confronta_statistiche_vaccinazioni(df, continente1, continente2)\n",
    "print(f\"Confronto tra {continente1} e {continente2} per il numero di vaccinazioni totali:\\n\")\n",
    "for chiave, valore in risultati_vaccinazioni.items():\n",
    "    print(f\"{chiave}: {valore:.2f}\")\n"
   ]
  },
  {
   "cell_type": "markdown",
   "metadata": {},
   "source": [
    "Alla fine, basandosi sui calcoli fatti, il committente chiede di stilare un breve (tre o quattro righe) paragrafo testuale riassuntivo sulle statistiche di casi e vaccinazioni, che si concentri solo sulle differenze esistenti tra Europa, Sud America e Oceania"
   ]
  },
  {
   "cell_type": "markdown",
   "metadata": {},
   "source": [
    "Analizzando i dati relativi alla diffusione del COVID-19 e alle vaccinazioni, si possono notare evidenti differenze tra Europa, Sud America e Oceania. \n",
    "L'Europa si distingue per il numero più elevato di casi totali, con una media significativamente superiore agli altri continenti, riflettendo una sfida complessa nella gestione della pandemia. \n",
    "Il Sud America presenta una variabilità considerevole tra i paesi, con un minimo inferiore all'Europa, ma una percentuale di casi in linea con il totale mondiale, indicando variazioni significative nella risposta regionale. \n",
    "In contrasto, l'Oceania registra il minor numero di casi totali e vaccinazioni, suggerendo un inizio relativamente contenuto della pandemia e un potenziale per il potenziamento delle campagne vaccinali. \n",
    "Queste differenze mettono in luce le sfide uniche affrontate da ciascuna regione nel combattere la pandemia e nell'accelerare la copertura vaccinale. "
   ]
  }
 ],
 "metadata": {
  "kernelspec": {
   "display_name": "Python 3",
   "language": "python",
   "name": "python3"
  },
  "language_info": {
   "codemirror_mode": {
    "name": "ipython",
    "version": 3
   },
   "file_extension": ".py",
   "mimetype": "text/x-python",
   "name": "python",
   "nbconvert_exporter": "python",
   "pygments_lexer": "ipython3",
   "version": "3.11.5"
  },
  "orig_nbformat": 4
 },
 "nbformat": 4,
 "nbformat_minor": 2
}
